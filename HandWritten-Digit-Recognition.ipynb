{
 "cells": [
  {
   "cell_type": "code",
   "execution_count": 1,
   "metadata": {},
   "outputs": [],
   "source": [
    "import numpy as np\n",
    "import matplotlib.pyplot as plt\n",
    "import random\n",
    "import time \n",
    "from matplotlib import pyplot as plt"
   ]
  },
  {
   "cell_type": "markdown",
   "metadata": {},
   "source": [
    "## Load Data"
   ]
  },
  {
   "cell_type": "code",
   "execution_count": 2,
   "metadata": {},
   "outputs": [],
   "source": [
    "\n",
    "def load_train_set():\n",
    "    # Reading The Train Set\n",
    "    train_images_file = open('train-images.idx3-ubyte', 'rb')\n",
    "    train_images_file.seek(4)\n",
    "    num_of_train_images = int.from_bytes(train_images_file.read(4), 'big')\n",
    "    train_images_file.seek(16)\n",
    "\n",
    "    train_labels_file = open('train-labels.idx1-ubyte', 'rb')\n",
    "    train_labels_file.seek(8)\n",
    "\n",
    "    train_set = []\n",
    "    for n in range(num_of_train_images):\n",
    "        image = np.zeros((784, 1))\n",
    "        for i in range(784):\n",
    "            image[i, 0] = int.from_bytes(train_images_file.read(1), 'big') / 256\n",
    "        \n",
    "        label_value = int.from_bytes(train_labels_file.read(1), 'big')\n",
    "        label = np.zeros((10, 1))\n",
    "        label[label_value, 0] = 1\n",
    "        \n",
    "        train_set.append((image, label))\n",
    "    return train_set\n"
   ]
  },
  {
   "cell_type": "code",
   "execution_count": 3,
   "metadata": {},
   "outputs": [],
   "source": [
    "\n",
    "def load_test_set():\n",
    "    # Reading The Test Set\n",
    "    test_images_file = open('t10k-images.idx3-ubyte', 'rb')\n",
    "    test_images_file.seek(4)\n",
    "\n",
    "    test_labels_file = open('t10k-labels.idx1-ubyte', 'rb')\n",
    "    test_labels_file.seek(8)\n",
    "\n",
    "    num_of_test_images = int.from_bytes(test_images_file.read(4), 'big')\n",
    "    test_images_file.seek(16)\n",
    "\n",
    "    test_set = []\n",
    "    for n in range(num_of_test_images):\n",
    "        image = np.zeros((784, 1))\n",
    "        for i in range(784):\n",
    "            image[i] = int.from_bytes(test_images_file.read(1), 'big') / 256\n",
    "        \n",
    "        label_value = int.from_bytes(test_labels_file.read(1), 'big')\n",
    "        label = np.zeros((10, 1))\n",
    "        label[label_value, 0] = 1\n",
    "        \n",
    "        test_set.append((image, label))\n",
    "    \n",
    "    return test_set\n"
   ]
  },
  {
   "cell_type": "code",
   "execution_count": 4,
   "metadata": {},
   "outputs": [],
   "source": [
    "train_set = load_train_set()\n",
    "test_set = load_test_set()"
   ]
  },
  {
   "cell_type": "markdown",
   "metadata": {},
   "source": [
    "## part1"
   ]
  },
  {
   "cell_type": "code",
   "execution_count": 5,
   "metadata": {},
   "outputs": [],
   "source": [
    "def show_image(img):\n",
    "    image = img.reshape((28, 28))\n",
    "    plt.imshow(image, 'gray')"
   ]
  },
  {
   "cell_type": "code",
   "execution_count": 6,
   "metadata": {},
   "outputs": [],
   "source": [
    "def check_sets(checking_set):\n",
    "\n",
    "    x = np.random.randint(0,len(checking_set))\n",
    "    show_image(checking_set[x][0])\n",
    "    print(np.argmax(checking_set[x][1]))\n",
    "    plt.show()\n"
   ]
  },
  {
   "cell_type": "code",
   "execution_count": 7,
   "metadata": {},
   "outputs": [
    {
     "name": "stdout",
     "output_type": "stream",
     "text": [
      "5\n"
     ]
    },
    {
     "data": {
      "image/png": "[encoded data removed]",
      "text/plain": [
       "<Figure size 432x288 with 1 Axes>"
      ]
     },
     "metadata": {
      "needs_background": "light"
     },
     "output_type": "display_data"
    }
   ],
   "source": [
    "\n",
    "check_sets(train_set)"
   ]
  },
  {
   "cell_type": "code",
   "execution_count": 8,
   "metadata": {},
   "outputs": [
    {
     "name": "stdout",
     "output_type": "stream",
     "text": [
      "1\n"
     ]
    },
    {
     "data": {
      "image/png": "[encoded data removed]",
      "text/plain": [
       "<Figure size 432x288 with 1 Axes>"
      ]
     },
     "metadata": {
      "needs_background": "light"
     },
     "output_type": "display_data"
    }
   ],
   "source": [
    "check_sets(test_set)"
   ]
  },
  {
   "cell_type": "markdown",
   "metadata": {},
   "source": [
    "# part 2\n",
    "##  fell free to set what ever you want\n",
    "by this dynamic coding style you can use this neural network for any kind of data with any number of hidden layer.\n",
    "some part may be deficult to understant in compare to hard code for three layer but both methods follow same idea."
   ]
  },
  {
   "cell_type": "code",
   "execution_count": 184,
   "metadata": {},
   "outputs": [],
   "source": [
    "layers_num = 3\n",
    "layers_cellNums = [28*28,16,16,10]"
   ]
  },
  {
   "cell_type": "code",
   "execution_count": 185,
   "metadata": {},
   "outputs": [],
   "source": [
    "def sig(x):\n",
    "    return 1/(1 + np.exp(-x))"
   ]
  },
  {
   "cell_type": "code",
   "execution_count": 186,
   "metadata": {},
   "outputs": [],
   "source": [
    "def sig_derivative(x):\n",
    "    s = sig(x)\n",
    "    ds = s*(1-s)\n",
    "    return ds"
   ]
  },
  {
   "cell_type": "code",
   "execution_count": 187,
   "metadata": {},
   "outputs": [],
   "source": [
    "def leaky_relu(x):\n",
    "    return np.where(x > 0, x, x * 0.1)    \n"
   ]
  },
  {
   "cell_type": "code",
   "execution_count": 188,
   "metadata": {},
   "outputs": [],
   "source": [
    " def leaky_relu_Derivative(x):\n",
    "    return np.where(x > 0, 1,  0.1) "
   ]
  },
  {
   "cell_type": "code",
   "execution_count": 189,
   "metadata": {},
   "outputs": [],
   "source": [
    "def tanh(x):\n",
    "#     t = (np.exp(x)-np.exp(-x))/(np.exp(x)+np.exp(-x))\n",
    "    return np.tanh(x)"
   ]
  },
  {
   "cell_type": "code",
   "execution_count": 190,
   "metadata": {},
   "outputs": [],
   "source": [
    "def tanh_deriv(x):\n",
    "    return 1-(tanh(x)**2)"
   ]
  },
  {
   "cell_type": "code",
   "execution_count": 191,
   "metadata": {},
   "outputs": [],
   "source": [
    "def calculate_layer_output(W_nextL, al ,b_nextL, activation_func ):\n",
    "    '''\n",
    "    inputs:\n",
    "        w_nextL : is weights matrix in shape(k * n), k: number of cell in next layer, n: number of cell in current layer\n",
    "        al : input vector of current layer in shape(n * 1)\n",
    "        b_nextL : bias vector in shape (n * 1)\n",
    "    output :\n",
    "        a_nextL : output of this layer in shape (n * 1)\n",
    "    '''\n",
    "    \n",
    "    return activation_func((W_nextL @ al) + b_nextL)"
   ]
  },
  {
   "cell_type": "code",
   "execution_count": 192,
   "metadata": {},
   "outputs": [],
   "source": [
    "def init_matrices(layers_cellNums):\n",
    "    weights_matrix_list =[]\n",
    "    bias_list = []\n",
    "    \n",
    "    for i in range(layer_num):\n",
    "        matrix = np.random.normal(0, 1, size=(layers_cellNums[i+1],layers_cellNums[i] ))\n",
    "        weights_matrix_list.append(matrix)\n",
    "   \n",
    "    for cell_num in layers_cellNums[1:]:\n",
    "        bias_list.append(np.zeros((cell_num,1)))\n",
    "    \n",
    "    return weights_matrix_list, bias_list"
   ]
  },
  {
   "cell_type": "code",
   "execution_count": 193,
   "metadata": {},
   "outputs": [],
   "source": [
    "def claculate_network_output(weights_matrix_list, input_data, bias_list, activation_func ):\n",
    "    '''\n",
    "    inputs : \n",
    "        weights_matrix_list : a list contains weights matrix in order of layers, here it contains 3 weights matrix\n",
    "        input data : vector of an image\n",
    "        bias_list : a list contains bias vector for each layer in order\n",
    "    output:\n",
    "        network_output : final result of network which is digit \n",
    "    '''\n",
    "    a_list = []\n",
    "    a_list.append(input_data)\n",
    "    for i in range(len(weights_matrix_list)):\n",
    "        if i ==  (layers_num-1) :\n",
    "            activation_func = sig\n",
    "        res = calculate_layer_output(weights_matrix_list[i],a_list[i],bias_list[i], activation_func)\n",
    "        a_list.append(res)\n",
    "    return a_list"
   ]
  },
  {
   "cell_type": "code",
   "execution_count": 194,
   "metadata": {},
   "outputs": [],
   "source": [
    "def calculate_accuracy(actual_data, Nactual_data,weights_matrix_list,bias_list, activation_func):\n",
    "    correct_answer = 0\n",
    "    for i in range(Nactual_data):\n",
    "        predicted_output = claculate_network_output(weights_matrix_list,actual_data[i][0],bias_list, activation_func)\n",
    "        if np.argmax(predicted_output[-1]) == np.argmax(actual_data[i][1]):\n",
    "            correct_answer += 1\n",
    "    return correct_answer/Nactual_data"
   ]
  },
  {
   "cell_type": "markdown",
   "metadata": {},
   "source": [
    "## accuracy for normal random weights and zero biases"
   ]
  },
  {
   "cell_type": "code",
   "execution_count": 195,
   "metadata": {},
   "outputs": [
    {
     "data": {
      "text/plain": [
       "0.12"
      ]
     },
     "execution_count": 195,
     "metadata": {},
     "output_type": "execute_result"
    }
   ],
   "source": [
    "weights_matrix_list, bias_list = init_matrices(layers_cellNums)\n",
    "calculate_accuracy(train_set,100, weights_matrix_list, bias_list, sig)"
   ]
  },
  {
   "cell_type": "markdown",
   "metadata": {},
   "source": [
    "## part3"
   ]
  },
  {
   "cell_type": "code",
   "execution_count": 196,
   "metadata": {},
   "outputs": [],
   "source": [
    "def calculate_deriviate(weights_matrix,bias,a_prevL,dcost_dat, layer_num, activation_derivative ):\n",
    "    if layer_num == (layers_num-1): #for last layer we always use sigmoid \n",
    "        activation_derivative = sig_derivative\n",
    "    row,col = weights_matrix.shape\n",
    "    weights_matrix_deriviate = np.zeros((row,col)) \n",
    "    bias_deriviate = np.zeros((row,1))\n",
    "    dcost_dap = np.zeros((col,1)) \n",
    "    for j in range(row):\n",
    "        bias_deriviate[j] = dcost_dat[j] * activation_derivative(np.dot(weights_matrix[j][:],a_prevL)+ bias[j])\n",
    "        for k in range(col):\n",
    "            weights_matrix_deriviate[j][k] = bias_deriviate[j]*a_prevL[k]\n",
    "    if layer_num != 0:        \n",
    "        for k in range(col):\n",
    "            for j in range(row):\n",
    "                dcost_dap[k] += bias_deriviate[j] * weights_matrix[j][k]\n",
    "    return weights_matrix_deriviate,bias_deriviate, dcost_dap"
   ]
  },
  {
   "cell_type": "code",
   "execution_count": 197,
   "metadata": {},
   "outputs": [],
   "source": [
    "def calculate_deriviate_vecorized(weights_matrix,bias,a_prevL,dcost_dat, layer_num, activation_derivative):\n",
    "    if layer_num == (layers_num -1): #for last layer we always use sigmoid \n",
    "        activation_derivative = sig_derivative\n",
    "    row,col = weights_matrix.shape\n",
    "    dcost_dap = np.zeros((col,1)) \n",
    "    bias_deriviate = dcost_dat * activation_derivative(np.dot(weights_matrix,a_prevL)+ bias)\n",
    "    weights_matrix_deriviate = bias_deriviate @ np.transpose(a_prevL)\n",
    "    if layer_num != 0: #for first layer we dont need dcost/da\n",
    "        dcost_dap = np.transpose(weights_matrix) @ bias_deriviate\n",
    "    return weights_matrix_deriviate,bias_deriviate, dcost_dap"
   ]
  },
  {
   "cell_type": "code",
   "execution_count": 219,
   "metadata": {},
   "outputs": [],
   "source": [
    "def backprog(weights_matrix_list,a_list, bias_list, image_label, vectorized, activation_derivative):\n",
    "    weights_matrix_deriviate_list= []\n",
    "    bias_deriviate_list = []\n",
    "    dcost_da_list = [0 for x in range(layers_num)]\n",
    "    dcost_daj = 2*(a_list[-1]-image_label)\n",
    "    dcost_da_list[layers_num-1] = dcost_daj\n",
    "    for i in range(layers_num-1,-1,-1):\n",
    "        if vectorized == 1:\n",
    "            w,b,d = calculate_deriviate_vecorized(weights_matrix_list[i],bias_list[i],a_list[i],dcost_da_list[i],i, activation_derivative)\n",
    "        else :\n",
    "            w,b,d = calculate_deriviate(weights_matrix_list[i],bias_list[i],a_list[i],dcost_da_list[i],i, activation_derivative)\n",
    "        weights_matrix_deriviate_list.append(w)\n",
    "        bias_deriviate_list.append(b)\n",
    "        dcost_da_list[i-1] = d\n",
    "\n",
    "    return weights_matrix_deriviate_list[::-1],bias_deriviate_list[::-1]\n",
    "        \n",
    "    "
   ]
  },
  {
   "cell_type": "code",
   "execution_count": 214,
   "metadata": {},
   "outputs": [],
   "source": [
    "def calculate_gradian(weights_matrix_list, bias_list, batch, vectorized, activation_func, activation_derivative):\n",
    "    weights_Gmatrix_list =[]\n",
    "    bias_G_list = []\n",
    "    \n",
    "    for i in range(layer_num):\n",
    "        matrix = np.zeros((layers_cellNums[i+1],layers_cellNums[i] ))\n",
    "        weights_Gmatrix_list.append(matrix)\n",
    "    \n",
    "    for cell_num in layers_cellNums[1:]:\n",
    "        bias_G_list.append(np.zeros((cell_num,1)))\n",
    "   \n",
    "    for image_data, image_label in batch : \n",
    "        a_list = claculate_network_output(weights_matrix_list,image_data, bias_list, activation_func)\n",
    "        weights_matrix_deriviate_list,bias_deriviate_list = backprog(weights_matrix_list,a_list,bias_list, image_label, vectorized, activation_derivative)\n",
    "        for i in range(len(weights_Gmatrix_list)):\n",
    "            weights_Gmatrix_list[i] += weights_matrix_deriviate_list[i]\n",
    "            bias_G_list[i] += bias_deriviate_list[i]\n",
    "    return weights_Gmatrix_list, bias_G_list"
   ]
  },
  {
   "cell_type": "code",
   "execution_count": 215,
   "metadata": {},
   "outputs": [],
   "source": [
    "def calculate_cost(actual_value, Ndata,weights_matrix_list,bias_list, activation_func):\n",
    "    cost = 0\n",
    "    for i in range(Ndata):\n",
    "        predicted_output = claculate_network_output(weights_matrix_list,actual_value[i][0],bias_list, activation_func)\n",
    "        cost += ((predicted_output[-1] - actual_value[i][1])**2)\n",
    "    return cost/Ndata\n",
    "    "
   ]
  },
  {
   "cell_type": "code",
   "execution_count": 216,
   "metadata": {},
   "outputs": [],
   "source": [
    "def stochastic_gradiant_descent(epoch_num, batch_size, train_data, learning_rate, vectorized,activation_func, activation_derivative ):\n",
    "    weights_matrix_list1, bias_list1 = init_matrices(layers_cellNums)\n",
    "    cost_list =[]\n",
    "    for i in range(epoch_num):\n",
    "        random.shuffle(train_data)\n",
    "        batch_list = [train_data[x:x+batch_size] for x in range(0, len(train_data), batch_size)]\n",
    "        for batch in batch_list:\n",
    "            weights_Gmatrix_list1, bias_G_list1 = calculate_gradian(weights_matrix_list1,bias_list1, batch, vectorized, activation_func, activation_derivative)\n",
    "            for i in range(len(weights_matrix_list1)):\n",
    "                weights_matrix_list1[i] -= (learning_rate *weights_Gmatrix_list1[i])/batch_size\n",
    "                bias_list1[i] -= (learning_rate * bias_G_list1[i])/ batch_size\n",
    "        cost_list.append(calculate_cost(train_data,len(train_data),weights_matrix_list1,bias_list1, activation_func))\n",
    "    return weights_matrix_list1, bias_list1, cost_list\n",
    "            \n",
    "    \n",
    "    "
   ]
  },
  {
   "cell_type": "code",
   "execution_count": 217,
   "metadata": {},
   "outputs": [],
   "source": [
    "def show_result(actual_data,num_entries, weights_matrix_list, bias_list, cost_list, activation_func ):\n",
    "    accuracy = calculate_accuracy(actual_data, num_entries,weights_matrix_list,bias_list, activation_func )\n",
    "    print(\"accuracy is: {0:.4f} \".format(accuracy*100))\n",
    "    norm_list = [(np.linalg.norm(x)**2) for x in cost_list]\n",
    "    plt.plot(norm_list)"
   ]
  },
  {
   "cell_type": "code",
   "execution_count": 220,
   "metadata": {},
   "outputs": [
    {
     "name": "stdout",
     "output_type": "stream",
     "text": [
      "CPU times: user 1min 25s, sys: 50.4 s, total: 2min 16s\n",
      "Wall time: 34 s\n"
     ]
    }
   ],
   "source": [
    "%%time\n",
    "weights_matrix_list_unvec, bias_list_unvec, cost_list_unvec = stochastic_gradiant_descent(20,10,train_set[:100],1,0, sig, sig_derivative)"
   ]
  },
  {
   "cell_type": "code",
   "execution_count": 221,
   "metadata": {},
   "outputs": [
    {
     "name": "stdout",
     "output_type": "stream",
     "text": [
      "accuracy is: 76.0000 \n"
     ]
    },
    {
     "data": {
      "image/png": "[encoded data removed]",
      "text/plain": [
       "<Figure size 432x288 with 1 Axes>"
      ]
     },
     "metadata": {
      "needs_background": "light"
     },
     "output_type": "display_data"
    }
   ],
   "source": [
    "show_result(train_set, 100, weights_matrix_list_unvec, bias_list_unvec,cost_list_unvec, sig)"
   ]
  },
  {
   "cell_type": "code",
   "execution_count": 232,
   "metadata": {},
   "outputs": [
    {
     "name": "stdout",
     "output_type": "stream",
     "text": [
      "CPU times: user 8.51 s, sys: 4.85 s, total: 13.4 s\n",
      "Wall time: 3.34 s\n"
     ]
    }
   ],
   "source": [
    "%%time\n",
    "weights_matrix_list_vec, bias_list_vec, cost_list_vec = stochastic_gradiant_descent(200,10,train_set[:100],1,1, sig, sig_derivative)"
   ]
  },
  {
   "cell_type": "code",
   "execution_count": 233,
   "metadata": {},
   "outputs": [
    {
     "name": "stdout",
     "output_type": "stream",
     "text": [
      "accuracy is: 99.0000 \n"
     ]
    },
    {
     "data": {
      "image/png": "[encoded data removed]",
      "text/plain": [
       "<Figure size 432x288 with 1 Axes>"
      ]
     },
     "metadata": {
      "needs_background": "light"
     },
     "output_type": "display_data"
    }
   ],
   "source": [
    "show_result(train_set,100,weights_matrix_list_vec, bias_list_vec, cost_list_vec, sig)"
   ]
  },
  {
   "cell_type": "code",
   "execution_count": 234,
   "metadata": {},
   "outputs": [
    {
     "name": "stdout",
     "output_type": "stream",
     "text": [
      "CPU times: user 1min 57s, sys: 1min 7s, total: 3min 4s\n",
      "Wall time: 46.3 s\n"
     ]
    }
   ],
   "source": [
    "%%time\n",
    "weights_matrix_list_vec, bias_list_vec, cost_list_vec = stochastic_gradiant_descent(5,50,train_set,1,1, sig, sig_derivative)"
   ]
  },
  {
   "cell_type": "code",
   "execution_count": 235,
   "metadata": {},
   "outputs": [
    {
     "name": "stdout",
     "output_type": "stream",
     "text": [
      "accuracy is: 90.5867 \n"
     ]
    },
    {
     "data": {
      "image/png": "[encoded data removed]",
      "text/plain": [
       "<Figure size 432x288 with 1 Axes>"
      ]
     },
     "metadata": {
      "needs_background": "light"
     },
     "output_type": "display_data"
    }
   ],
   "source": [
    "show_result(train_set, len(train_set),weights_matrix_list_vec, bias_list_vec, cost_list_vec, sig )"
   ]
  },
  {
   "cell_type": "code",
   "execution_count": 236,
   "metadata": {},
   "outputs": [
    {
     "name": "stdout",
     "output_type": "stream",
     "text": [
      "accuracy is: 90.4100 \n"
     ]
    },
    {
     "data": {
      "image/png": "[encoded data removed]",
      "text/plain": [
       "<Figure size 432x288 with 1 Axes>"
      ]
     },
     "metadata": {
      "needs_background": "light"
     },
     "output_type": "display_data"
    }
   ],
   "source": [
    "show_result(test_set, len(test_set),weights_matrix_list_vec, bias_list_vec, cost_list_vec, sig )"
   ]
  },
  {
   "cell_type": "markdown",
   "metadata": {},
   "source": [
    "## optional 1\n"
   ]
  },
  {
   "cell_type": "code",
   "execution_count": 199,
   "metadata": {},
   "outputs": [],
   "source": [
    "def shift_matirx(matrix, shift):\n",
    "    matrix = np.roll(matrix,shift)\n",
    "    matrix[:,:shift] = 0\n",
    "    return matrix.reshape(-1,1)"
   ]
  },
  {
   "cell_type": "code",
   "execution_count": 200,
   "metadata": {},
   "outputs": [],
   "source": [
    "shifted_test_set = [(shift_matirx(x[0].reshape(28,28),4),x[1]) for x in test_set]"
   ]
  },
  {
   "cell_type": "code",
   "execution_count": 201,
   "metadata": {},
   "outputs": [
    {
     "data": {
      "image/png": "[encoded data removed]",
      "text/plain": [
       "<Figure size 432x288 with 1 Axes>"
      ]
     },
     "metadata": {
      "needs_background": "light"
     },
     "output_type": "display_data"
    }
   ],
   "source": [
    "show_image(test_set[8][0])"
   ]
  },
  {
   "cell_type": "code",
   "execution_count": 202,
   "metadata": {},
   "outputs": [
    {
     "data": {
      "image/png": "[encoded data removed]",
      "text/plain": [
       "<Figure size 432x288 with 1 Axes>"
      ]
     },
     "metadata": {
      "needs_background": "light"
     },
     "output_type": "display_data"
    }
   ],
   "source": [
    "show_image(shifted_test_set[8][0])"
   ]
  },
  {
   "cell_type": "code",
   "execution_count": 203,
   "metadata": {},
   "outputs": [
    {
     "data": {
      "text/plain": [
       "0.2632"
      ]
     },
     "execution_count": 203,
     "metadata": {},
     "output_type": "execute_result"
    }
   ],
   "source": [
    "calculate_accuracy(shifted_test_set, len(shifted_test_set),weights_matrix_list_vec,bias_list_vec, sig )"
   ]
  },
  {
   "cell_type": "markdown",
   "metadata": {},
   "source": [
    "## optional part2"
   ]
  },
  {
   "cell_type": "markdown",
   "metadata": {},
   "source": [
    "## tanh"
   ]
  },
  {
   "cell_type": "code",
   "execution_count": 237,
   "metadata": {},
   "outputs": [
    {
     "name": "stdout",
     "output_type": "stream",
     "text": [
      "CPU times: user 1min 45s, sys: 1min, total: 2min 46s\n",
      "Wall time: 41.7 s\n"
     ]
    }
   ],
   "source": [
    "%%time\n",
    "weights_matrix_list_vec, bias_list_vec, cost_list_vec = stochastic_gradiant_descent(5,50,train_set,1,1, tanh, tanh_deriv)"
   ]
  },
  {
   "cell_type": "code",
   "execution_count": 238,
   "metadata": {},
   "outputs": [
    {
     "name": "stdout",
     "output_type": "stream",
     "text": [
      "accuracy is: 88.1183 \n"
     ]
    },
    {
     "data": {
      "image/png": "[encoded data removed]",
      "text/plain": [
       "<Figure size 432x288 with 1 Axes>"
      ]
     },
     "metadata": {
      "needs_background": "light"
     },
     "output_type": "display_data"
    }
   ],
   "source": [
    "show_result(train_set, len(train_set),weights_matrix_list_vec, bias_list_vec, cost_list_vec, tanh )"
   ]
  },
  {
   "cell_type": "markdown",
   "metadata": {},
   "source": [
    "## relu"
   ]
  },
  {
   "cell_type": "code",
   "execution_count": 239,
   "metadata": {},
   "outputs": [],
   "source": [
    "def RAI(fan_in, fan_out):\n",
    "    V = np.random.randn(fan_out, fan_in + 1) * 0.6007 / fan_in ** 0.5\n",
    "    for j in range(fan_out):\n",
    "        k = np.random.randint(0, high=fan_in + 1)\n",
    "        V[j, k] = np.random.beta(2, 1)\n",
    "    W = V[:, :-1]\n",
    "    b = np.reshape(V[:, -1], (fan_out, 1))\n",
    "    return W.astype(np.float32), b.astype(np.float32)"
   ]
  },
  {
   "cell_type": "code",
   "execution_count": 240,
   "metadata": {},
   "outputs": [],
   "source": [
    "def stochastic_gradiant_descent(epoch_num, batch_size, train_data, learning_rate, vectorized,activation_func, activation_derivative ):\n",
    "    w1 = np.random.normal(0,2/784,size=(16,784))\n",
    "    b1 = np.zeros((16,1))\n",
    "    w2, b2 = RAI(16, 16)\n",
    "    w3, b3 = RAI(16, 10)\n",
    "    weights_matrix_list1 = [w1,w2,w3]\n",
    "    bias_list1 = [b1, b2, b3]\n",
    "    \n",
    "    cost_list =[]\n",
    "    for i in range(epoch_num):\n",
    "        random.shuffle(train_data)\n",
    "        batch_list = [train_data[x:x+batch_size] for x in range(0, len(train_data), batch_size)]\n",
    "        for batch in batch_list:\n",
    "            weights_Gmatrix_list1, bias_G_list1 = calculate_gradian(weights_matrix_list1,bias_list1, batch, vectorized, activation_func, activation_derivative)\n",
    "            for i in range(len(weights_matrix_list1)):\n",
    "                weights_matrix_list1[i] -= (learning_rate *weights_Gmatrix_list1[i])/batch_size\n",
    "                bias_list1[i] -= (learning_rate * bias_G_list1[i])/ batch_size\n",
    "        cost_list.append(calculate_cost(train_data,len(train_data),weights_matrix_list1,bias_list1, activation_func))\n",
    "    return weights_matrix_list1, bias_list1, cost_list\n",
    "            \n",
    "    \n",
    "    "
   ]
  },
  {
   "cell_type": "code",
   "execution_count": 243,
   "metadata": {},
   "outputs": [
    {
     "name": "stdout",
     "output_type": "stream",
     "text": [
      "CPU times: user 2min 19s, sys: 1min 21s, total: 3min 40s\n",
      "Wall time: 55.1 s\n"
     ]
    }
   ],
   "source": [
    "%%time\n",
    "weights_matrix_list_vec, bias_list_vec, cost_list_vec = stochastic_gradiant_descent(5,50,train_set,0.5,1, leaky_relu, leaky_relu_Derivative)"
   ]
  },
  {
   "cell_type": "code",
   "execution_count": 244,
   "metadata": {},
   "outputs": [
    {
     "name": "stdout",
     "output_type": "stream",
     "text": [
      "accuracy is: 94.0533 \n"
     ]
    },
    {
     "data": {
      "image/png": "[encoded data removed]",
      "text/plain": [
       "<Figure size 432x288 with 1 Axes>"
      ]
     },
     "metadata": {
      "needs_background": "light"
     },
     "output_type": "display_data"
    }
   ],
   "source": [
    "show_result(train_set, len(train_set),weights_matrix_list_vec, bias_list_vec, cost_list_vec, leaky_relu )"
   ]
  }
 ],
 "metadata": {
  "kernelspec": {
   "display_name": "Python 3",
   "language": "python",
   "name": "python3"
  },
  "language_info": {
   "codemirror_mode": {
    "name": "ipython",
    "version": 3
   },
   "file_extension": ".py",
   "mimetype": "text/x-python",
   "name": "python",
   "nbconvert_exporter": "python",
   "pygments_lexer": "ipython3",
   "version": "3.8.2"
  }
 },
 "nbformat": 4,
 "nbformat_minor": 4
}
