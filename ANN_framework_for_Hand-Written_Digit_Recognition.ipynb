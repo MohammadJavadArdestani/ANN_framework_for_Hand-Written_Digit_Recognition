{
 "cells": [
  {
   "cell_type": "code",
   "execution_count": 1,
   "metadata": {},
   "outputs": [],
   "source": [
    "import numpy as np\n",
    "import matplotlib.pyplot as plt\n",
    "import random\n",
    "import time \n",
    "from matplotlib import pyplot as plt"
   ]
  },
  {
   "cell_type": "markdown",
   "metadata": {},
   "source": [
    "# ANN from scratch "
   ]
  },
  {
   "cell_type": "markdown",
   "metadata": {},
   "source": [
    "## Activation Functions"
   ]
  },
  {
   "cell_type": "code",
   "execution_count": null,
   "metadata": {},
   "outputs": [],
   "source": [
    "def linear(x):\n",
    "  return x\n",
    "\n",
    "def linear_derivative(x):\n",
    "  return np.ones(x.shape)\n",
    "\n",
    "def sig(x):\n",
    "    return 1/(1 + np.exp(-x))\n",
    "\n",
    "def sig_derivative(x):\n",
    "    s = sig(x)\n",
    "    ds = s*(1-s)\n",
    "    return ds\n",
    "\n",
    "def relu(x):\n",
    "    return np.where(x > 0, x, 0.0)\n",
    "    \n",
    "def relu_derivative(x):\n",
    "   return np.where(x > 0, 1,  0.0) \n",
    "\n",
    "def leaky_relu(x):\n",
    "    return np.where(x > 0, x, x * 0.1)    \n",
    "\n",
    "def leaky_relu_derivative(x):\n",
    "   return np.where(x > 0, 1,  0.1) \n",
    "\n",
    "def tanh(x):\n",
    "    return np.tanh(x)\n",
    "\n",
    "def tanh_derivative(x):\n",
    "    return 1-(tanh(x)**2)"
   ]
  },
  {
   "cell_type": "markdown",
   "metadata": {},
   "source": [
    "## Forward Phase"
   ]
  },
  {
   "cell_type": "code",
   "execution_count": null,
   "metadata": {},
   "outputs": [],
   "source": [
    "\n",
    "def calculate_layer_output(W_nextL, al ,b_nextL, activation_func):  \n",
    "    '''\n",
    "    inputs:\n",
    "        w_nextL : is weights matrix in shape(k * n), k: number of cell in next layer, n: number of cell in current layer\n",
    "        al : input vector of current layer in shape(n * 1)\n",
    "        b_nextL : bias vector in shape (n * 1)\n",
    "    output :\n",
    "        a_nextL : output of this layer in shape (n * 1)\n",
    "    '''  \n",
    "    return activation_func((W_nextL @ al) + b_nextL)\n",
    "\n",
    "\n",
    "def claculate_network_output(weights_matrix_list, input_data, bias_list, activation_func):\n",
    "    '''\n",
    "    inputs : \n",
    "        weights_matrix_list : a list contains weights matrix in order of layers, here it contains 3 weights matrix\n",
    "        input data : vector of an image\n",
    "        bias_list : a list contains bias vector for each layer in order\n",
    "    output:\n",
    "        network_output : final result of network which is digit \n",
    "    '''\n",
    "    last_layer_num = len(weights_matrix_list)-1\n",
    "    a_list = []\n",
    "    a_list.append(input_data)\n",
    "    for i in range(len(weights_matrix_list)):\n",
    "        if i == last_layer_num: # we chose sig for last layer, but feel free to change\n",
    "            activation_func = sig\n",
    "        res = calculate_layer_output(weights_matrix_list[i],a_list[i],bias_list[i], activation_func)\n",
    "        a_list.append(res)\n",
    "    return a_list\n"
   ]
  },
  {
   "cell_type": "markdown",
   "metadata": {},
   "source": [
    "## Loss Functions"
   ]
  },
  {
   "cell_type": "code",
   "execution_count": null,
   "metadata": {},
   "outputs": [],
   "source": [
    "def MSE(actual_value, Ndata,weights_matrix_list,bias_list, activation_func):\n",
    "    loss = 0\n",
    "    for i in range(Ndata):\n",
    "        predicted_output = claculate_network_output(weights_matrix_list,actual_value[i][0],bias_list, activation_func)\n",
    "        loss += ((predicted_output[-1] - actual_value[i][1])**2)\n",
    "    return loss/Ndata"
   ]
  },
  {
   "cell_type": "markdown",
   "metadata": {},
   "source": [
    "## Backward Phase"
   ]
  },
  {
   "cell_type": "code",
   "execution_count": null,
   "metadata": {},
   "outputs": [],
   "source": [
    "def calculate_deriviate_elementwise(weights_matrix,bias,a_prevL,dcost_dat, layer_num, activation_derivative ):\n",
    "    if layer_num == (layer_num-1): #for last layer we always use sigmoid \n",
    "        activation_derivative = sig_derivative\n",
    "    row,col = weights_matrix.shape\n",
    "    weights_matrix_deriviate = np.zeros((row,col)) \n",
    "    bias_deriviate = np.zeros((row,1))\n",
    "    dcost_dap = np.zeros((col,1)) \n",
    "    for j in range(row):\n",
    "        bias_deriviate[j] = dcost_dat[j] * activation_derivative(np.dot(weights_matrix[j][:],a_prevL)+ bias[j])\n",
    "        for k in range(col):\n",
    "            weights_matrix_deriviate[j][k] = bias_deriviate[j]*a_prevL[k]\n",
    "    if layer_num != 0:        \n",
    "        for k in range(col):\n",
    "            for j in range(row):\n",
    "                dcost_dap[k] += bias_deriviate[j] * weights_matrix[j][k]\n",
    "    return weights_matrix_deriviate,bias_deriviate, dcost_dap\n",
    "\n",
    "def calculate_deriviate_vecorized(weights_matrix,bias,a_prevL,dcost_dat, layer_num, activation_derivative):\n",
    "    if layer_num == (layer_num -1): #for last layer we always use sigmoid \n",
    "        activation_derivative = linear_derivative\n",
    "    row,col = weights_matrix.shape\n",
    "    dcost_dap = np.zeros((col,1),dtype=np.float64) \n",
    "    bias_deriviate = dcost_dat * activation_derivative(np.dot(weights_matrix,a_prevL)+ bias)\n",
    "    weights_matrix_deriviate = bias_deriviate @ np.transpose(a_prevL)\n",
    "    if layer_num != 0: #for first layer we dont need dcost/da\n",
    "        dcost_dap = np.transpose(weights_matrix) @ bias_deriviate\n",
    "    return weights_matrix_deriviate,bias_deriviate, dcost_dap\n",
    "       \n",
    "def calculate_gradian(weights_matrix_list,a_list, bias_list, image_label, vectorized, activation_derivative):\n",
    "    global layers_num\n",
    "    weights_matrix_deriviate_list= []\n",
    "    bias_deriviate_list = []\n",
    "    dcost_da_list = [0 for x in range(layers_num)]\n",
    "    dcost_daj = 2*(a_list[-1]-image_label)\n",
    "    dcost_da_list[layers_num-1] = dcost_daj\n",
    "    for i in range(layers_num-1,-1,-1):\n",
    "        if vectorized == 1:\n",
    "            w,b,d = calculate_deriviate_vecorized(weights_matrix_list[i],bias_list[i],a_list[i],dcost_da_list[i],i, activation_derivative)\n",
    "        else :\n",
    "            w,b,d = calculate_deriviate_elementwise(weights_matrix_list[i],bias_list[i],a_list[i],dcost_da_list[i],i, activation_derivative)\n",
    "        weights_matrix_deriviate_list.append(w)\n",
    "        bias_deriviate_list.append(b)\n",
    "        dcost_da_list[i-1] = d\n",
    "\n",
    "    return weights_matrix_deriviate_list[::-1],bias_deriviate_list[::-1]\n",
    "\n",
    "def stochastic_gradiant_descent(weights_matrix_list, bias_list, batch, vectorized, activation_func, activation_derivative):\n",
    "    global layers_num, layers_cellNums\n",
    "    weights_Gmatrix_list =[]\n",
    "    bias_G_list = []\n",
    "    \n",
    "    for i in range(layers_num):\n",
    "        matrix = np.zeros((layers_cellNums[i+1],layers_cellNums[i] ), dtype=np.float64)\n",
    "        weights_Gmatrix_list.append(matrix)\n",
    "    \n",
    "    for cell_num in layers_cellNums[1:]:\n",
    "        bias_G_list.append(np.zeros((cell_num,1), dtype=np.float64))\n",
    "   \n",
    "    for x, y, _ in batch : \n",
    "        a_list = claculate_network_output(weights_matrix_list,x, bias_list, activation_func)\n",
    "        weights_matrix_deriviate_list,bias_deriviate_list = calculate_gradian(weights_matrix_list,a_list,bias_list, y, vectorized, activation_derivative)\n",
    "        for i in range(len(weights_Gmatrix_list)):\n",
    "            weights_Gmatrix_list[i] += weights_matrix_deriviate_list[i]\n",
    "            bias_G_list[i] += bias_deriviate_list[i]\n",
    "    return weights_Gmatrix_list, bias_G_list"
   ]
  },
  {
   "cell_type": "markdown",
   "metadata": {},
   "source": [
    "## Train Function"
   ]
  },
  {
   "cell_type": "code",
   "execution_count": null,
   "metadata": {},
   "outputs": [],
   "source": [
    "def init_matrices(layers_cellNums):\n",
    "    # initiate wieght and bias matrices\n",
    "    weights_matrix_list = []\n",
    "    bias_list = []\n",
    "    for i in range(len(layers_cellNums)-1):\n",
    "      np.random.seed(seed=5 + i)\n",
    "      weights_matrix_list.append(np.random.normal(0, 1, size=(layers_cellNums[i+1],layers_cellNums[i])).astype(np.float64))\n",
    "    for i in range(1, len(layers_cellNums)): \n",
    "      np.random.seed(seed=15 -i  )\n",
    "      bias_list.append(np.zeros((layers_cellNums[i],1),dtype= np.float64))\n",
    "    return weights_matrix_list, bias_list"
   ]
  },
  {
   "cell_type": "code",
   "execution_count": null,
   "metadata": {},
   "outputs": [],
   "source": [
    "def train(epoch_num, batch_size, train_data, learning_rate, vectorized,activation_func, activation_derivative):\n",
    "    weights_matrix_list1, bias_list1 = init_matrices(layers_cellNums)\n",
    "    cost_list =[]\n",
    "    for i in range(epoch_num):\n",
    "        random.shuffle(train_data)\n",
    "        batch_list = [train_data[x:x+batch_size] for x in range(0, len(train_data), batch_size)]\n",
    "        for batch in batch_list:\n",
    "            weights_Gmatrix_list1, bias_G_list1 = calculate_gradian(weights_matrix_list1,bias_list1, batch, vectorized, activation_func, activation_derivative)\n",
    "            for i in range(len(weights_matrix_list1)):\n",
    "                weights_matrix_list1[i] -= (learning_rate *weights_Gmatrix_list1[i])/batch_size\n",
    "                bias_list1[i] -= (learning_rate * bias_G_list1[i])/ batch_size\n",
    "        cost_list.append(MSE(train_data,len(train_data),weights_matrix_list1,bias_list1, activation_func))\n",
    "    return weights_matrix_list1, bias_list1, cost_list\n",
    "            \n",
    "    "
   ]
  },
  {
   "cell_type": "markdown",
   "metadata": {},
   "source": [
    "## Accuracy"
   ]
  },
  {
   "cell_type": "code",
   "execution_count": null,
   "metadata": {},
   "outputs": [],
   "source": [
    "def calculate_accuracy(actual_data, Nactual_data,weights_matrix_list,bias_list, activation_func):\n",
    "    correct_sample = 0\n",
    "    for i in range(Nactual_data):\n",
    "        predicted_output = claculate_network_output(weights_matrix_list,actual_data[i][0],bias_list, activation_func)\n",
    "        if np.argmax(predicted_output[-1]) == np.argmax(actual_data[i][1]):\n",
    "            correct_sample += 1\n",
    "    return correct_sample/Nactual_data"
   ]
  },
  {
   "cell_type": "markdown",
   "metadata": {},
   "source": [
    "## Plotters"
   ]
  },
  {
   "cell_type": "code",
   "execution_count": null,
   "metadata": {},
   "outputs": [],
   "source": [
    "def loss_plotter(actual_data,num_entries, weights_matrix_list, bias_list, cost_list, activation_func ):\n",
    "    accuracy = calculate_accuracy(actual_data, num_entries,weights_matrix_list,bias_list, activation_func )\n",
    "    print(\"accuracy is: {0:.4f} \".format(accuracy*100))\n",
    "    norm_list = [(np.linalg.norm(x)**2) for x in cost_list]\n",
    "    plt.plot(norm_list)"
   ]
  },
  {
   "cell_type": "markdown",
   "metadata": {},
   "source": [
    "## Handwriten Digit Recognition"
   ]
  },
  {
   "cell_type": "markdown",
   "metadata": {},
   "source": [
    "## Model Architecture "
   ]
  },
  {
   "cell_type": "code",
   "execution_count": null,
   "metadata": {},
   "outputs": [],
   "source": [
    "layers_num = 3 # number of layers \n",
    "input_size = [28*28] \n",
    "hidden_layers_size = [16, 16]\n",
    "output_size = [10]\n",
    "layers_cellNums = input_size + hidden_layers_size + output_size"
   ]
  },
  {
   "cell_type": "markdown",
   "metadata": {},
   "source": [
    "## Load Dataset"
   ]
  },
  {
   "cell_type": "code",
   "execution_count": 2,
   "metadata": {},
   "outputs": [],
   "source": [
    "\n",
    "def load_train_set():\n",
    "    # Reading The Train Set\n",
    "    train_images_file = open('train-images.idx3-ubyte', 'rb')\n",
    "    train_images_file.seek(4)\n",
    "    num_of_train_images = int.from_bytes(train_images_file.read(4), 'big')\n",
    "    train_images_file.seek(16)\n",
    "\n",
    "    train_labels_file = open('train-labels.idx1-ubyte', 'rb')\n",
    "    train_labels_file.seek(8)\n",
    "\n",
    "    train_set = []\n",
    "    for n in range(num_of_train_images):\n",
    "        image = np.zeros((784, 1))\n",
    "        for i in range(784):\n",
    "            image[i, 0] = int.from_bytes(train_images_file.read(1), 'big') / 256\n",
    "        \n",
    "        label_value = int.from_bytes(train_labels_file.read(1), 'big')\n",
    "        label = np.zeros((10, 1))\n",
    "        label[label_value, 0] = 1\n",
    "        \n",
    "        train_set.append((image, label))\n",
    "    return train_set\n"
   ]
  },
  {
   "cell_type": "code",
   "execution_count": 3,
   "metadata": {},
   "outputs": [],
   "source": [
    "\n",
    "def load_test_set():\n",
    "    # Reading The Test Set\n",
    "    test_images_file = open('t10k-images.idx3-ubyte', 'rb')\n",
    "    test_images_file.seek(4)\n",
    "\n",
    "    test_labels_file = open('t10k-labels.idx1-ubyte', 'rb')\n",
    "    test_labels_file.seek(8)\n",
    "\n",
    "    num_of_test_images = int.from_bytes(test_images_file.read(4), 'big')\n",
    "    test_images_file.seek(16)\n",
    "\n",
    "    test_set = []\n",
    "    for n in range(num_of_test_images):\n",
    "        image = np.zeros((784, 1))\n",
    "        for i in range(784):\n",
    "            image[i] = int.from_bytes(test_images_file.read(1), 'big') / 256\n",
    "        \n",
    "        label_value = int.from_bytes(test_labels_file.read(1), 'big')\n",
    "        label = np.zeros((10, 1))\n",
    "        label[label_value, 0] = 1\n",
    "        \n",
    "        test_set.append((image, label))\n",
    "    \n",
    "    return test_set\n"
   ]
  },
  {
   "cell_type": "code",
   "execution_count": 4,
   "metadata": {},
   "outputs": [],
   "source": [
    "train_set = load_train_set()\n",
    "test_set = load_test_set()"
   ]
  },
  {
   "cell_type": "markdown",
   "metadata": {},
   "source": [
    "### Plot a Sample of data"
   ]
  },
  {
   "cell_type": "code",
   "execution_count": 5,
   "metadata": {},
   "outputs": [],
   "source": [
    "def show_image(img):\n",
    "    image = img.reshape((28, 28))\n",
    "    plt.imshow(image, 'gray')"
   ]
  },
  {
   "cell_type": "code",
   "execution_count": 6,
   "metadata": {},
   "outputs": [],
   "source": [
    "def check_sets(checking_set):\n",
    "    x = np.random.randint(0,len(checking_set))\n",
    "    show_image(checking_set[x][0])\n",
    "    print(np.argmax(checking_set[x][1]))\n",
    "    plt.show()\n"
   ]
  },
  {
   "cell_type": "code",
   "execution_count": 7,
   "metadata": {},
   "outputs": [
    {
     "name": "stdout",
     "output_type": "stream",
     "text": [
      "5\n"
     ]
    },
    {
     "data": {
      "image/png": "[encoded data removed]",
      "text/plain": [
       "<Figure size 432x288 with 1 Axes>"
      ]
     },
     "metadata": {
      "needs_background": "light"
     },
     "output_type": "display_data"
    }
   ],
   "source": [
    "check_sets(train_set)"
   ]
  },
  {
   "cell_type": "markdown",
   "metadata": {},
   "source": [
    "## Compare Runtime of Elementwise vs Vectorized Calculation"
   ]
  },
  {
   "cell_type": "markdown",
   "metadata": {},
   "source": [
    "### Train Elementwise"
   ]
  },
  {
   "cell_type": "code",
   "execution_count": 220,
   "metadata": {},
   "outputs": [
    {
     "name": "stdout",
     "output_type": "stream",
     "text": [
      "CPU times: user 1min 25s, sys: 50.4 s, total: 2min 16s\n",
      "Wall time: 34 s\n"
     ]
    }
   ],
   "source": [
    "%%time\n",
    "weights_matrix_list_unvec, bias_list_unvec, cost_list_unvec = train(epoch_num = 20,\n",
    "                                                                    batch_size = 10,\n",
    "                                                                    train_data = train_set[:100],\n",
    "                                                                    learning_rate = 0.01,\n",
    "                                                                    vectorized = 0,\n",
    "                                                                    activation_func = sig,\n",
    "                                                                    activation_derivative = sig_derivative) "
   ]
  },
  {
   "cell_type": "code",
   "execution_count": 221,
   "metadata": {},
   "outputs": [
    {
     "name": "stdout",
     "output_type": "stream",
     "text": [
      "accuracy is: 76.0000 \n"
     ]
    },
    {
     "data": {
      "image/png": "[encoded data removed]",
      "text/plain": [
       "<Figure size 432x288 with 1 Axes>"
      ]
     },
     "metadata": {
      "needs_background": "light"
     },
     "output_type": "display_data"
    }
   ],
   "source": [
    "loss_plotter(train_set, 100, weights_matrix_list_unvec, bias_list_unvec,cost_list_unvec, sig)"
   ]
  },
  {
   "cell_type": "markdown",
   "metadata": {},
   "source": [
    "### Train Vectorized"
   ]
  },
  {
   "cell_type": "code",
   "execution_count": 232,
   "metadata": {},
   "outputs": [
    {
     "name": "stdout",
     "output_type": "stream",
     "text": [
      "CPU times: user 8.51 s, sys: 4.85 s, total: 13.4 s\n",
      "Wall time: 3.34 s\n"
     ]
    }
   ],
   "source": [
    "%%time\n",
    "weights_matrix_list_vec, bias_list_vec, cost_list_vec  =  train(epoch_num = 200,\n",
    "                                                                batch_size = 10,\n",
    "                                                                train_data = train_set[:100],\n",
    "                                                                learning_rate = 0.01,\n",
    "                                                                vectorized = 1,\n",
    "                                                                activation_func = sig,\n",
    "                                                                activation_derivative = sig_derivative) "
   ]
  },
  {
   "cell_type": "code",
   "execution_count": 233,
   "metadata": {},
   "outputs": [
    {
     "name": "stdout",
     "output_type": "stream",
     "text": [
      "accuracy is: 99.0000 \n"
     ]
    },
    {
     "data": {
      "image/png": "[encoded data removed]",
      "text/plain": [
       "<Figure size 432x288 with 1 Axes>"
      ]
     },
     "metadata": {
      "needs_background": "light"
     },
     "output_type": "display_data"
    }
   ],
   "source": [
    "loss_plotter(train_set,100,weights_matrix_list_vec, bias_list_vec, cost_list_vec, sig)"
   ]
  },
  {
   "cell_type": "markdown",
   "metadata": {},
   "source": [
    "## Result\n",
    "The elementwise method takes about 136s for 20 Epochs but vectorized needs 13.4 to train the model over 200 epochs.<br> So the vectorized approach decreases the training time dramatically. "
   ]
  },
  {
   "cell_type": "markdown",
   "metadata": {},
   "source": [
    "## Train Model on Complete Dataset"
   ]
  },
  {
   "cell_type": "code",
   "execution_count": 234,
   "metadata": {},
   "outputs": [
    {
     "name": "stdout",
     "output_type": "stream",
     "text": [
      "CPU times: user 1min 57s, sys: 1min 7s, total: 3min 4s\n",
      "Wall time: 46.3 s\n"
     ]
    }
   ],
   "source": [
    "%%time\n",
    "weights_matrix_list_vec, bias_list_vec, cost_list_vec =  train( epoch_num = 5,\n",
    "                                                                batch_size = 50,\n",
    "                                                                train_data = train_set,\n",
    "                                                                learning_rate = 0.01,\n",
    "                                                                vectorized = 1,\n",
    "                                                                activation_func = sig,\n",
    "                                                                activation_derivative = sig_derivative) "
   ]
  },
  {
   "cell_type": "markdown",
   "metadata": {},
   "source": [
    "### Loss values for each Epoch in the training"
   ]
  },
  {
   "cell_type": "code",
   "execution_count": 235,
   "metadata": {},
   "outputs": [
    {
     "name": "stdout",
     "output_type": "stream",
     "text": [
      "accuracy is: 90.5867 \n"
     ]
    },
    {
     "data": {
      "image/png": "[encoded data removed]",
      "text/plain": [
       "<Figure size 432x288 with 1 Axes>"
      ]
     },
     "metadata": {
      "needs_background": "light"
     },
     "output_type": "display_data"
    }
   ],
   "source": [
    "loss_plotter(train_set, len(train_set),weights_matrix_list_vec, bias_list_vec, cost_list_vec, sig )"
   ]
  },
  {
   "cell_type": "markdown",
   "metadata": {},
   "source": [
    "### Loss values for each Epoch in the Test"
   ]
  },
  {
   "cell_type": "code",
   "execution_count": 236,
   "metadata": {},
   "outputs": [
    {
     "name": "stdout",
     "output_type": "stream",
     "text": [
      "accuracy is: 90.4100 \n"
     ]
    },
    {
     "data": {
      "image/png": "[encoded data removed]",
      "text/plain": [
       "<Figure size 432x288 with 1 Axes>"
      ]
     },
     "metadata": {
      "needs_background": "light"
     },
     "output_type": "display_data"
    }
   ],
   "source": [
    "loss_plotter(test_set, len(test_set),weights_matrix_list_vec, bias_list_vec, cost_list_vec, sig )"
   ]
  },
  {
   "cell_type": "markdown",
   "metadata": {},
   "source": [
    "# Adversarial Attack by Shifting Digit Pattern Matrices"
   ]
  },
  {
   "cell_type": "code",
   "execution_count": 199,
   "metadata": {},
   "outputs": [],
   "source": [
    "def shift_matirx(matrix, shift):\n",
    "    matrix = np.roll(matrix,shift)\n",
    "    matrix[:,:shift] = 0\n",
    "    return matrix.reshape(-1,1)"
   ]
  },
  {
   "cell_type": "code",
   "execution_count": 200,
   "metadata": {},
   "outputs": [],
   "source": [
    "shifted_test_set = [(shift_matirx(x[0].reshape(28,28),4),x[1]) for x in test_set]"
   ]
  },
  {
   "cell_type": "markdown",
   "metadata": {},
   "source": [
    "### Standard Image"
   ]
  },
  {
   "cell_type": "code",
   "execution_count": 201,
   "metadata": {},
   "outputs": [
    {
     "data": {
      "image/png": "[encoded data removed]",
      "text/plain": [
       "<Figure size 432x288 with 1 Axes>"
      ]
     },
     "metadata": {
      "needs_background": "light"
     },
     "output_type": "display_data"
    }
   ],
   "source": [
    "show_image(test_set[8][0])"
   ]
  },
  {
   "cell_type": "markdown",
   "metadata": {},
   "source": [
    "### Shifted Image"
   ]
  },
  {
   "cell_type": "code",
   "execution_count": 202,
   "metadata": {},
   "outputs": [
    {
     "data": {
      "image/png": "[encoded data removed]",
      "text/plain": [
       "<Figure size 432x288 with 1 Axes>"
      ]
     },
     "metadata": {
      "needs_background": "light"
     },
     "output_type": "display_data"
    }
   ],
   "source": [
    "show_image(shifted_test_set[8][0])"
   ]
  },
  {
   "cell_type": "markdown",
   "metadata": {},
   "source": [
    "### Calculate the Accuracy of trained model by shifted dataset"
   ]
  },
  {
   "cell_type": "code",
   "execution_count": 203,
   "metadata": {},
   "outputs": [
    {
     "data": {
      "text/plain": [
       "0.2632"
      ]
     },
     "execution_count": 203,
     "metadata": {},
     "output_type": "execute_result"
    }
   ],
   "source": [
    "calculate_accuracy(shifted_test_set, len(shifted_test_set),weights_matrix_list_vec,bias_list_vec, sig )"
   ]
  },
  {
   "cell_type": "markdown",
   "metadata": {},
   "source": [
    "## Result\n",
    "The model's accuracy falls below 30% because of shifting the data to just 4 pixels, which is a considerable amount of Vulnerability"
   ]
  }
 ],
 "metadata": {
  "kernelspec": {
   "display_name": "Python 3.9.7 64-bit",
   "language": "python",
   "name": "python3"
  },
  "language_info": {
   "codemirror_mode": {
    "name": "ipython",
    "version": 3
   },
   "file_extension": ".py",
   "mimetype": "text/x-python",
   "name": "python",
   "nbconvert_exporter": "python",
   "pygments_lexer": "ipython3",
   "version": "3.9.7"
  },
  "vscode": {
   "interpreter": {
    "hash": "42aca8b8e8a8ea4e9ad6820a0820166b784b9fe99cc74d1b5150875fd9b2f3df"
   }
  }
 },
 "nbformat": 4,
 "nbformat_minor": 4
}
